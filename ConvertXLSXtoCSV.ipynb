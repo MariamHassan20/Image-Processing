{
  "nbformat": 4,
  "nbformat_minor": 0,
  "metadata": {
    "colab": {
      "provenance": [],
      "authorship_tag": "ABX9TyPG8aTPOpCmAQPiuUqgSgm3",
      "include_colab_link": true
    },
    "kernelspec": {
      "name": "python3",
      "display_name": "Python 3"
    },
    "language_info": {
      "name": "python"
    }
  },
  "cells": [
    {
      "cell_type": "markdown",
      "metadata": {
        "id": "view-in-github",
        "colab_type": "text"
      },
      "source": [
        "<a href=\"https://colab.research.google.com/github/MariamHassan20/Image-Processing/blob/main/ConvertXLSXtoCSV.ipynb\" target=\"_parent\"><img src=\"https://colab.research.google.com/assets/colab-badge.svg\" alt=\"Open In Colab\"/></a>"
      ]
    },
    {
      "cell_type": "markdown",
      "source": [
        "Converting an .xlsx file to a .csv file may cause issues if the data in the original .xlsx file is not structured in a way that is easily translatable to a .csv format. By default, most spreadsheet software will save all data in a single column when exporting to .csv, which can cause issues if your code expects the data to be structured in a specific way.\n",
        "\n",
        "To fix this issue, you can try using a library such as pandas to read in the .xlsx file and then convert it to a .csv file. pandas allows you to specify the sheet name and the range of cells you want to convert to a .csv file.\n",
        "Additionally, you may want to check the format of the xlsx file, if it's using different separator than ',' it will cause the data to be located in one column while exporting.\n",
        "\n",
        "Here's an example of how you can use pandas to convert an .xlsx file to a .csv file and select specific sheet and range of cells:\n"
      ],
      "metadata": {
        "id": "obsoYLrNO1es"
      }
    },
    {
      "cell_type": "code",
      "source": [
        "import pandas as pd\n",
        "\n",
        "# Load the .xlsx file\n",
        "df = pd.read_excel('example.xlsx', sheet_name='Sheet1')\n",
        "\n",
        "# Select a specific range of cells\n",
        "df = df.iloc[:, 0:5]\n",
        "\n",
        "# Convert the data to a .csv file\n",
        "df.to_csv('example.csv', index=False)\n"
      ],
      "metadata": {
        "id": "lM911ntVO3S1"
      },
      "execution_count": null,
      "outputs": []
    },
    {
      "cell_type": "markdown",
      "source": [
        "This code loads the 'Sheet1' of the 'example.xlsx' file and converts it to a .csv file called 'example.csv' .\n",
        "You can also use the read_excel function with parameter usecols to select the columns you want to convert to csv."
      ],
      "metadata": {
        "id": "5ubV4i8qO5Yf"
      }
    },
    {
      "cell_type": "code",
      "source": [
        "import pandas as pd\n",
        "\n",
        "# Load the .xlsx file\n",
        "df = pd.read_excel('example.xlsx', usecols = \"A:F\")\n",
        "\n",
        "# Convert the data to a .csv file\n",
        "df.to_csv('example.csv', index=False)\n"
      ],
      "metadata": {
        "id": "yltqEZ2PO8eW"
      },
      "execution_count": null,
      "outputs": []
    },
    {
      "cell_type": "markdown",
      "source": [
        "This will convert only the columns A to F in the example.xlsx to example.csv\n",
        "\n",
        "Please note that the above examples assume that the data in the original .xlsx file is structured in a way that is easily translatable to a .csv format. If that is not the case, you may need to pre-process the data before converting it to a .csv file."
      ],
      "metadata": {
        "id": "KH8oHS_HO-i5"
      }
    },
    {
      "cell_type": "markdown",
      "source": [
        "You can make the code df = df.iloc[:, 0:5] select all the data automatically by removing it completely. If you do not specify the range of cells to select, pandas will automatically select all the data in the sheet.\n",
        "\n",
        "Here's an example of how you can use pandas to convert an .xlsx file to a .csv file without specifying a range of cells:\n",
        "\n"
      ],
      "metadata": {
        "id": "UAQ7LlSwPDqn"
      }
    },
    {
      "cell_type": "code",
      "source": [
        "import pandas as pd\n",
        "\n",
        "# Load the .xlsx file\n",
        "df = pd.read_excel('example.xlsx', sheet_name='Sheet1')\n",
        "\n",
        "# Convert the data to a .csv file\n",
        "df.to_csv('example.csv', index=False)\n"
      ],
      "metadata": {
        "id": "guSLpzFIPGWE"
      },
      "execution_count": null,
      "outputs": []
    },
    {
      "cell_type": "markdown",
      "source": [
        "Alternatively, you can use the shape attribute of the DataFrame to get the number of rows and columns of the data frame and use them to select the range of cells.\n",
        "\n"
      ],
      "metadata": {
        "id": "y6q-Z47MPK8I"
      }
    },
    {
      "cell_type": "code",
      "source": [
        "import pandas as pd\n",
        "\n",
        "# Load the .xlsx file\n",
        "df = pd.read_excel('example.xlsx', sheet_name='Sheet1')\n",
        "\n",
        "# Select all the rows and columns\n",
        "df = df.iloc[:, 0:df.shape[1]]\n",
        "\n",
        "# Convert the data to a .csv file\n",
        "df.to_csv('example.csv', index=False)\n"
      ],
      "metadata": {
        "id": "OiP6p6nKPLl6"
      },
      "execution_count": null,
      "outputs": []
    },
    {
      "cell_type": "markdown",
      "source": [
        "This way, you can select all the data in the sheet and convert it to a .csv file.\n",
        "\n",
        "Please note that this will convert all the data available in the sheet, including any empty cells or cells with NaN values. If you want to exclude these cells, you can use the dropna() function before converting the data to a .csv file."
      ],
      "metadata": {
        "id": "B6cOHSJSPPNU"
      }
    },
    {
      "cell_type": "code",
      "source": [
        "import pandas as pd\n",
        "\n",
        "# Load the .xlsx file\n",
        "df = pd.read_excel('example.xlsx', sheet_name='Sheet1')\n",
        "\n",
        "#Select all the rows and columns\n",
        "df = df.iloc[:, 0:df.shape[1]]\n",
        "\n",
        "# Drop rows with NaN values\n",
        "df = df.dropna()\n",
        "\n",
        "# Convert the data to a .csv file\n",
        "df.to_csv('example.csv', index=False)\n"
      ],
      "metadata": {
        "id": "aVWXDQ7fPPtT"
      },
      "execution_count": null,
      "outputs": []
    },
    {
      "cell_type": "markdown",
      "source": [
        "This will drop all the rows with any NaN values before converting the data to a .csv file.\n",
        "\n",
        "\n",
        "\n"
      ],
      "metadata": {
        "id": "MLGbkpvxPTPv"
      }
    }
  ]
}